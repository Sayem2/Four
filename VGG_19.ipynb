{
  "nbformat": 4,
  "nbformat_minor": 0,
  "metadata": {
    "colab": {
      "provenance": [],
      "include_colab_link": true
    },
    "kernelspec": {
      "name": "python3",
      "display_name": "Python 3"
    },
    "language_info": {
      "name": "python"
    }
  },
  "cells": [
    {
      "cell_type": "markdown",
      "metadata": {
        "id": "view-in-github",
        "colab_type": "text"
      },
      "source": [
        "<a href=\"https://colab.research.google.com/github/Sayem2/abusayem.github.io/blob/master/VGG_19.ipynb\" target=\"_parent\"><img src=\"https://colab.research.google.com/assets/colab-badge.svg\" alt=\"Open In Colab\"/></a>"
      ]
    },
    {
      "cell_type": "code",
      "execution_count": null,
      "metadata": {
        "id": "wNH7s3iaco8o"
      },
      "outputs": [],
      "source": [
        "import numpy as np\n",
        "import matplotlib.pyplot as plt\n",
        "from sklearn.metrics import classification_report, confusion_matrix, roc_auc_score, roc_curve, auc\n",
        "from keras.preprocessing.image import ImageDataGenerator\n",
        "from keras.applications.vgg19 import VGG19\n",
        "from keras.models import Model\n",
        "from keras.layers import Dense, Flatten\n",
        "from keras.optimizers import Adam\n",
        "from keras.callbacks import EarlyStopping\n",
        "from keras.utils import to_categorical"
      ]
    },
    {
      "cell_type": "code",
      "source": [
        "from google.colab import drive\n",
        "drive.mount('/content/drive')"
      ],
      "metadata": {
        "colab": {
          "base_uri": "https://localhost:8080/"
        },
        "id": "g1BJxvo6c05C",
        "outputId": "30695da8-80c0-4a28-fa71-bd173b0b7483"
      },
      "execution_count": 1,
      "outputs": [
        {
          "output_type": "stream",
          "name": "stdout",
          "text": [
            "Mounted at /content/drive\n"
          ]
        }
      ]
    },
    {
      "cell_type": "code",
      "source": [
        "sp_train_dir = '/content/drive/MyDrive/Parkinson disease Detection Analysis through Machine Learning Approaches/PD-Dataset-1/PD-Dataset/spiral/training'\n",
        "sp_test_dir = '/content/drive/MyDrive/Parkinson disease Detection Analysis through Machine Learning Approaches/PD-Dataset-1/PD-Dataset/spiral/testing'\n",
        "wv_train_dir = '/content/drive/MyDrive/Parkinson disease Detection Analysis through Machine Learning Approaches/PD-Dataset-1/PD-Dataset/wave/training'\n",
        "wv_test_dir = '/content/drive/MyDrive/Parkinson disease Detection Analysis through Machine Learning Approaches/PD-Dataset-1/PD-Dataset/wave/testing'"
      ],
      "metadata": {
        "id": "SOvrdgIPdEd1"
      },
      "execution_count": null,
      "outputs": []
    },
    {
      "cell_type": "code",
      "source": [
        "train_datagen = ImageDataGenerator(rescale=1./255, horizontal_flip=True, zoom_range=0.2)\n",
        "test_datagen = ImageDataGenerator(rescale=1./255)"
      ],
      "metadata": {
        "id": "HYjBytgme_pd"
      },
      "execution_count": null,
      "outputs": []
    },
    {
      "cell_type": "code",
      "source": [
        "sp_train_generator = train_datagen.flow_from_directory('/content/drive/MyDrive/Parkinson disease Detection Analysis through Machine Learning Approaches/PD-Dataset-1/PD-Dataset/spiral/training', target_size=(224, 224), batch_size=32, class_mode='categorical')\n",
        "sp_test_generator = test_datagen.flow_from_directory('/content/drive/MyDrive/Parkinson disease Detection Analysis through Machine Learning Approaches/PD-Dataset-1/PD-Dataset/spiral/testing', target_size=(224, 224), batch_size=32, class_mode='categorical', shuffle=False)"
      ],
      "metadata": {
        "colab": {
          "base_uri": "https://localhost:8080/"
        },
        "id": "xsktsHuyfM8z",
        "outputId": "da839d28-5337-4280-d3d2-2f9041d0ba71"
      },
      "execution_count": null,
      "outputs": [
        {
          "output_type": "stream",
          "name": "stdout",
          "text": [
            "Found 72 images belonging to 2 classes.\n",
            "Found 30 images belonging to 2 classes.\n"
          ]
        }
      ]
    },
    {
      "cell_type": "code",
      "source": [
        "wv_train_generator = train_datagen.flow_from_directory('/content/drive/MyDrive/Parkinson disease Detection Analysis through Machine Learning Approaches/PD-Dataset-1/PD-Dataset/wave/training', target_size=(224, 224), batch_size=32, class_mode='categorical')\n",
        "wv_test_dir_test_generator = test_datagen.flow_from_directory('/content/drive/MyDrive/Parkinson disease Detection Analysis through Machine Learning Approaches/PD-Dataset-1/PD-Dataset/wave/testing', target_size=(224, 224), batch_size=32, class_mode='categorical', shuffle=False)"
      ],
      "metadata": {
        "colab": {
          "base_uri": "https://localhost:8080/"
        },
        "id": "T4kyuJpsh-mz",
        "outputId": "0e3b37ba-612b-4a0a-cc14-fdede88945d0"
      },
      "execution_count": null,
      "outputs": [
        {
          "output_type": "stream",
          "name": "stdout",
          "text": [
            "Found 72 images belonging to 2 classes.\n",
            "Found 30 images belonging to 2 classes.\n"
          ]
        }
      ]
    },
    {
      "cell_type": "code",
      "source": [
        "base_model = VGG19(weights='imagenet', include_top=False, input_shape=(224, 224, 3))"
      ],
      "metadata": {
        "colab": {
          "base_uri": "https://localhost:8080/"
        },
        "id": "v3mrhRLZib0A",
        "outputId": "d05e6377-6cb4-470f-e332-3db9bb098036"
      },
      "execution_count": null,
      "outputs": [
        {
          "output_type": "stream",
          "name": "stdout",
          "text": [
            "Downloading data from https://storage.googleapis.com/tensorflow/keras-applications/vgg19/vgg19_weights_tf_dim_ordering_tf_kernels_notop.h5\n",
            "80134624/80134624 [==============================] - 0s 0us/step\n"
          ]
        }
      ]
    },
    {
      "cell_type": "code",
      "source": [
        "x = base_model.output\n",
        "x = Flatten()(x)\n",
        "x = Dense(1024, activation='relu')(x)\n",
        "x = Dense(512, activation='relu')(x)\n",
        "predictions = Dense(sp_train_generator.num_classes, activation='softmax')(x)"
      ],
      "metadata": {
        "id": "F1_-OgP3ilBs"
      },
      "execution_count": null,
      "outputs": []
    },
    {
      "cell_type": "code",
      "source": [
        "model = Model(inputs=base_model.input, outputs=predictions)"
      ],
      "metadata": {
        "id": "bd3ZYKjii0j2"
      },
      "execution_count": null,
      "outputs": []
    },
    {
      "cell_type": "code",
      "source": [
        "for layer in base_model.layers:\n",
        "    layer.trainable = False"
      ],
      "metadata": {
        "id": "sK4pJWiRi3_G"
      },
      "execution_count": null,
      "outputs": []
    },
    {
      "cell_type": "code",
      "source": [
        "# Compile the model\n",
        "model.compile(optimizer=Adam(learning_rate=0.0001), loss='categorical_crossentropy', metrics=['accuracy'])"
      ],
      "metadata": {
        "id": "7P5hB_lzi7gA"
      },
      "execution_count": null,
      "outputs": []
    },
    {
      "cell_type": "code",
      "source": [
        "# Early Stopping to avoid overfitting\n",
        "early_stopping = EarlyStopping(monitor='val_loss', patience=5, restore_best_weights=True)"
      ],
      "metadata": {
        "id": "ChFtrLqBi_zK"
      },
      "execution_count": null,
      "outputs": []
    },
    {
      "cell_type": "code",
      "source": [
        "# Train the model\n",
        "history = model.fit(sp_train_generator, epochs=50, validation_data=sp_test_generator, callbacks=[early_stopping])\n"
      ],
      "metadata": {
        "colab": {
          "base_uri": "https://localhost:8080/"
        },
        "id": "XIDPy0YUjGPC",
        "outputId": "69a20701-911e-49f3-b34b-3049d7bd0efd"
      },
      "execution_count": null,
      "outputs": [
        {
          "output_type": "stream",
          "name": "stdout",
          "text": [
            "Epoch 1/50\n",
            "3/3 [==============================] - 127s 41s/step - loss: 0.8511 - accuracy: 0.6250 - val_loss: 1.4224 - val_accuracy: 0.5000\n",
            "Epoch 2/50\n",
            "3/3 [==============================] - 124s 55s/step - loss: 0.9451 - accuracy: 0.5972 - val_loss: 0.4637 - val_accuracy: 0.8333\n",
            "Epoch 3/50\n",
            "3/3 [==============================] - 91s 29s/step - loss: 0.5957 - accuracy: 0.7083 - val_loss: 0.6468 - val_accuracy: 0.6000\n",
            "Epoch 4/50\n",
            "3/3 [==============================] - 102s 46s/step - loss: 0.4038 - accuracy: 0.8194 - val_loss: 0.5429 - val_accuracy: 0.7667\n",
            "Epoch 5/50\n",
            "3/3 [==============================] - 83s 28s/step - loss: 0.6341 - accuracy: 0.7361 - val_loss: 0.4398 - val_accuracy: 0.8000\n",
            "Epoch 6/50\n",
            "3/3 [==============================] - 104s 38s/step - loss: 0.3813 - accuracy: 0.8333 - val_loss: 0.4851 - val_accuracy: 0.8333\n",
            "Epoch 7/50\n",
            "3/3 [==============================] - 84s 38s/step - loss: 0.3857 - accuracy: 0.7917 - val_loss: 0.4128 - val_accuracy: 0.8000\n",
            "Epoch 8/50\n",
            "3/3 [==============================] - 83s 28s/step - loss: 0.3022 - accuracy: 0.9028 - val_loss: 0.4670 - val_accuracy: 0.8000\n",
            "Epoch 9/50\n",
            "3/3 [==============================] - 83s 28s/step - loss: 0.3593 - accuracy: 0.8194 - val_loss: 0.4438 - val_accuracy: 0.8000\n",
            "Epoch 10/50\n",
            "3/3 [==============================] - 83s 37s/step - loss: 0.2934 - accuracy: 0.9167 - val_loss: 0.4095 - val_accuracy: 0.8667\n",
            "Epoch 11/50\n",
            "3/3 [==============================] - 101s 46s/step - loss: 0.3212 - accuracy: 0.8750 - val_loss: 0.4059 - val_accuracy: 0.8333\n",
            "Epoch 12/50\n",
            "3/3 [==============================] - 83s 28s/step - loss: 0.2628 - accuracy: 0.9028 - val_loss: 0.4464 - val_accuracy: 0.8000\n",
            "Epoch 13/50\n",
            "3/3 [==============================] - 83s 28s/step - loss: 0.2899 - accuracy: 0.8611 - val_loss: 0.4017 - val_accuracy: 0.8000\n",
            "Epoch 14/50\n",
            "3/3 [==============================] - 101s 46s/step - loss: 0.2402 - accuracy: 0.9028 - val_loss: 0.4045 - val_accuracy: 0.8333\n",
            "Epoch 15/50\n",
            "3/3 [==============================] - 102s 37s/step - loss: 0.2489 - accuracy: 0.9028 - val_loss: 0.3901 - val_accuracy: 0.8667\n",
            "Epoch 16/50\n",
            "3/3 [==============================] - 83s 29s/step - loss: 0.1856 - accuracy: 0.9444 - val_loss: 0.3940 - val_accuracy: 0.8000\n",
            "Epoch 17/50\n",
            "3/3 [==============================] - 83s 28s/step - loss: 0.2223 - accuracy: 0.9028 - val_loss: 0.4283 - val_accuracy: 0.8667\n",
            "Epoch 18/50\n",
            "3/3 [==============================] - 83s 28s/step - loss: 0.2153 - accuracy: 0.9444 - val_loss: 0.3985 - val_accuracy: 0.8000\n",
            "Epoch 19/50\n",
            "3/3 [==============================] - 101s 46s/step - loss: 0.3100 - accuracy: 0.8472 - val_loss: 0.4504 - val_accuracy: 0.8000\n",
            "Epoch 20/50\n",
            "3/3 [==============================] - 83s 28s/step - loss: 0.1821 - accuracy: 0.9444 - val_loss: 0.5161 - val_accuracy: 0.8000\n"
          ]
        }
      ]
    },
    {
      "cell_type": "code",
      "source": [
        "# Evaluate the model on the test set\n",
        "test_loss, test_accuracy = model.evaluate(sp_test_generator)\n",
        "print(f'Test accuracy: {test_accuracy * 100:.2f}%')"
      ],
      "metadata": {
        "colab": {
          "base_uri": "https://localhost:8080/"
        },
        "id": "Xc_FUhwtjRDs",
        "outputId": "4f932fcf-ee0a-46d6-959c-a9b767e59d05"
      },
      "execution_count": null,
      "outputs": [
        {
          "output_type": "stream",
          "name": "stdout",
          "text": [
            "1/1 [==============================] - 26s 26s/step - loss: 0.3901 - accuracy: 0.8667\n",
            "Test accuracy: 86.67%\n"
          ]
        }
      ]
    },
    {
      "cell_type": "code",
      "source": [
        "# Predict the test set\n",
        "sp_test_generator.reset()\n",
        "Y_pred = model.predict(sp_test_generator)\n",
        "y_pred = np.argmax(Y_pred, axis=1)\n",
        "y_true = sp_test_generator.classes"
      ],
      "metadata": {
        "colab": {
          "base_uri": "https://localhost:8080/"
        },
        "id": "negywj3vjec2",
        "outputId": "d7eae7a2-59b5-4478-acb4-f18b75edc01a"
      },
      "execution_count": null,
      "outputs": [
        {
          "output_type": "stream",
          "name": "stdout",
          "text": [
            "1/1 [==============================] - 27s 27s/step\n"
          ]
        }
      ]
    },
    {
      "cell_type": "code",
      "source": [
        "# Classification Report\n",
        "print('Classification Report')\n",
        "print(classification_report(y_true, y_pred, target_names=sp_test_generator.class_indices.keys()))\n"
      ],
      "metadata": {
        "colab": {
          "base_uri": "https://localhost:8080/"
        },
        "id": "yKkq4Tmojnyq",
        "outputId": "b63d86b4-e266-4a48-8600-c6ee338f7834"
      },
      "execution_count": null,
      "outputs": [
        {
          "output_type": "stream",
          "name": "stdout",
          "text": [
            "Classification Report\n",
            "              precision    recall  f1-score   support\n",
            "\n",
            "     healthy       0.82      0.93      0.87        15\n",
            "   parkinson       0.92      0.80      0.86        15\n",
            "\n",
            "    accuracy                           0.87        30\n",
            "   macro avg       0.87      0.87      0.87        30\n",
            "weighted avg       0.87      0.87      0.87        30\n",
            "\n"
          ]
        }
      ]
    },
    {
      "cell_type": "code",
      "source": [
        "# Confusion Matrix\n",
        "cm = confusion_matrix(y_true, y_pred)\n",
        "print('Confusion Matrix')\n",
        "print(cm)"
      ],
      "metadata": {
        "colab": {
          "base_uri": "https://localhost:8080/"
        },
        "id": "HbLAlbYEjuRV",
        "outputId": "2218a711-7347-4e08-9490-cd8027db1076"
      },
      "execution_count": null,
      "outputs": [
        {
          "output_type": "stream",
          "name": "stdout",
          "text": [
            "Confusion Matrix\n",
            "[[14  1]\n",
            " [ 3 12]]\n"
          ]
        }
      ]
    },
    {
      "cell_type": "code",
      "source": [
        "# AUC Curve\n",
        "fpr = {}\n",
        "tpr = {}\n",
        "roc_auc = {}\n",
        "for i in range(sp_train_generator.num_classes):\n",
        "    fpr[i], tpr[i], _ = roc_curve(to_categorical(y_true, num_classes=sp_train_generator.num_classes)[:, i], Y_pred[:, i])\n",
        "    roc_auc[i] = auc(fpr[i], tpr[i])\n"
      ],
      "metadata": {
        "id": "SvPblFeljyZe"
      },
      "execution_count": null,
      "outputs": []
    },
    {
      "cell_type": "code",
      "source": [
        "# Plot AUC Curve\n",
        "plt.figure()\n",
        "for i in range(sp_train_generator.num_classes):\n",
        "    plt.plot(fpr[i], tpr[i], label=f'Class {i} (AUC = {roc_auc[i]:.2f})')\n",
        "plt.plot([0, 1], [0, 1], 'k--')\n",
        "plt.xlim([0.0, 1.0])\n",
        "plt.ylim([0.0, 1.05])\n",
        "plt.xlabel('False Positive Rate')\n",
        "plt.ylabel('True Positive Rate')\n",
        "plt.title('Receiver Operating Characteristic (ROC) Curve')\n",
        "plt.legend(loc='lower right')\n",
        "plt.show()"
      ],
      "metadata": {
        "colab": {
          "base_uri": "https://localhost:8080/",
          "height": 472
        },
        "id": "etFDt7QOj6g9",
        "outputId": "f3fbcfff-11d5-4784-faed-2682c962e1d5"
      },
      "execution_count": null,
      "outputs": [
        {
          "output_type": "display_data",
          "data": {
            "text/plain": [
              "<Figure size 640x480 with 1 Axes>"
            ],
            "image/png": "[encoded data removed]"
          },
          "metadata": {}
        }
      ]
    },
    {
      "cell_type": "markdown",
      "source": [
        "*"
      ],
      "metadata": {
        "id": "rsc0wHj4s2o2"
      }
    }
  ]
}